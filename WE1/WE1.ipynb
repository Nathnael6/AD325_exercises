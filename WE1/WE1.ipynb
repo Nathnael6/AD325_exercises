{
 "cells": [
  {
   "cell_type": "markdown",
   "id": "b3df6cf4",
   "metadata": {},
   "source": [
    "# WE1 — Classes, Recursion, Algorithmic Analysis\n",
    "Course: CS DS 325, Fall 2025\n",
    "Author: Nathnael Yirga\n"
   ]
  },
  {
   "cell_type": "code",
   "execution_count": null,
   "id": "476d0960",
   "metadata": {
    "vscode": {
     "languageId": "plaintext"
    }
   },
   "outputs": [],
   "source": [
    "def _assert_eq(actual, expected):\n",
    "    if actual != expected:\n",
    "        raise AssertionError(f\"Expected {expected}, got {actual}\")\n",
    "    print(\"ok:\", actual)\n"
   ]
  }
 ],
 "metadata": {
  "language_info": {
   "name": "python"
  }
 },
 "nbformat": 4,
 "nbformat_minor": 5
}
