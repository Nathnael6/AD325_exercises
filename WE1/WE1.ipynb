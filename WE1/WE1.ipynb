{
 "cells": [
  {
   "cell_type": "markdown",
   "id": "b3df6cf4",
   "metadata": {},
   "source": [
    "# WE1 — Classes, Recursion, Algorithmic Analysis\n",
    "Course: CS DS 325, Fall 2025\n",
    "Author: Nathnael Yirga\n"
   ]
  },
  {
   "cell_type": "code",
   "execution_count": 20,
   "id": "476d0960",
   "metadata": {},
   "outputs": [],
   "source": [
    "def _assert_eq(actual, expected):\n",
    "    if actual != expected:\n",
    "        raise AssertionError(f\"Expected {expected}, got {actual}\")\n",
    "    print(\"ok:\", actual)\n"
   ]
  },
  {
   "cell_type": "markdown",
   "id": "e0a0b55a",
   "metadata": {},
   "source": [
    "## CSBS Q3: BankAccount\n",
    "\n",
    "Write a class named `BankAccount` where each object remembers information about a user's account at a bank.\n",
    "\n",
    "**Public Members**\n",
    "| member name | type | description |\n",
    "|--------------|------|--------------|\n",
    "| `BankAccount(name)` | constructor | constructs a new account with the given name and `$0.00` balance |\n",
    "| `ba.name` | property | the account name as a string (read-only) |\n",
    "| `ba.balance` | property | the account balance as a real number (read-only) |\n",
    "| `ba.deposit(amount)` | method | adds `amount` to the balance if amount is positive |\n",
    "| `ba.withdraw(amount)` | method | subtracts `amount` if positive and ≤ balance |\n",
    "\n"
   ]
  },
  {
   "cell_type": "code",
   "execution_count": 21,
   "id": "03479314",
   "metadata": {},
   "outputs": [],
   "source": [
    "# CSBS Q3: BankAccount\n",
    "\n",
    "# Implement a simple OOP bank account with encapsulation and validation.\n",
    "\n",
    "class BankAccount:\n",
    "    \"\"\"\n",
    "    A class representing a user's bank account.\n",
    "\n",
    "    Attributes\n",
    "    ----------\n",
    "    _name : str\n",
    "        the account owner's name (private)\n",
    "    _balance : float\n",
    "        current account balance (private)\n",
    "\n",
    "    Methods\n",
    "    -------\n",
    "    deposit(amount: float) -> None:\n",
    "        Adds the given amount to the balance if amount > 0.\n",
    "    withdraw(amount: float) -> None:\n",
    "        Subtracts the given amount from balance if amount > 0 and <= balance.\n",
    "    \"\"\"\n",
    "\n",
    "    def __init__(self, name: str):\n",
    "        \"\"\"Initialize a new account with name and zero balance.\"\"\"\n",
    "        self._name = name\n",
    "        self._balance = 0.0\n",
    "\n",
    "    # --- properties ---\n",
    "    @property\n",
    "    def name(self) -> str:\n",
    "        \"\"\"Return the account name (read-only).\"\"\"\n",
    "        return self._name\n",
    "\n",
    "    @property\n",
    "    def balance(self) -> float:\n",
    "        \"\"\"Return the account balance (read-only).\"\"\"\n",
    "        return self._balance\n",
    "\n",
    "    # --- methods ---\n",
    "    def deposit(self, amount: float) -> None:\n",
    "        \"\"\"Deposit a positive amount; ignore if amount <= 0.\"\"\"\n",
    "        if amount > 0:\n",
    "            self._balance += amount\n",
    "\n",
    "    def withdraw(self, amount: float) -> None:\n",
    "        \"\"\"Withdraw a positive amount if balance is sufficient.\"\"\"\n",
    "        if 0 < amount <= self._balance:\n",
    "            self._balance -= amount\n"
   ]
  },
  {
   "cell_type": "code",
   "execution_count": 22,
   "id": "a26198bb",
   "metadata": {},
   "outputs": [
    {
     "name": "stdout",
     "output_type": "stream",
     "text": [
      "ok: Nate\n",
      "ok: 0.0\n",
      "ok: 100.0\n",
      "ok: 100.0\n",
      "ok: 60.0\n",
      "ok: 60.0\n",
      "ok: 60.0\n",
      "✅ All manual tests passed.\n"
     ]
    }
   ],
   "source": [
    "# Manual tests for BankAccount\n",
    "\n",
    "# create a new account\n",
    "acct = BankAccount(\"Nate\")\n",
    "\n",
    "# initial state\n",
    "_assert_eq(acct.name, \"Nate\")\n",
    "_assert_eq(acct.balance, 0.0)\n",
    "\n",
    "# deposit test\n",
    "acct.deposit(100.0)\n",
    "_assert_eq(acct.balance, 100.0)\n",
    "\n",
    "# deposit negative (should ignore)\n",
    "acct.deposit(-50)\n",
    "_assert_eq(acct.balance, 100.0)\n",
    "\n",
    "# withdraw valid amount\n",
    "acct.withdraw(40.0)\n",
    "_assert_eq(acct.balance, 60.0)\n",
    "\n",
    "# withdraw too much (should ignore)\n",
    "acct.withdraw(100.0)\n",
    "_assert_eq(acct.balance, 60.0)\n",
    "\n",
    "# withdraw negative (should ignore)\n",
    "acct.withdraw(-10)\n",
    "_assert_eq(acct.balance, 60.0)\n",
    "\n",
    "print(\"✅ All manual tests passed.\")\n"
   ]
  },
  {
   "cell_type": "markdown",
   "id": "33cb6238",
   "metadata": {},
   "source": [
    "**Algorithmic Analysis**\n",
    "\n",
    "- Deposit and withdraw each run in **O(1)** time.\n",
    "- Accessor properties (`name`, `balance`) are **O(1)**.\n",
    "- Memory usage is constant per object — **O(1)** space.\n",
    "- No recursion or loops → purely constant-time operations.\n"
   ]
  },
  {
   "cell_type": "markdown",
   "id": "5c8597bd",
   "metadata": {},
   "source": [
    "## CSBS Q4: BankAccount_transaction_fee\n",
    "\n",
    "Extend the `BankAccount` class to include a `transaction_fee` property that deducts a set fee on every withdrawal.  \n",
    "- Default fee: $0.00  \n",
    "- Fee must be ≥ 0.  \n",
    "- Each withdrawal deducts both the amount **and** the fee, but only if balance stays non-negative.  \n",
    "- Deposits do not apply a fee.\n"
   ]
  },
  {
   "cell_type": "code",
   "execution_count": 23,
   "id": "fe52185e",
   "metadata": {},
   "outputs": [],
   "source": [
    "# CSBS Q4: BankAccount_transaction_fee\n",
    "# Adds a transaction_fee property to the BankAccount class.\n",
    "\n",
    "class BankAccount:\n",
    "    \"\"\"\n",
    "    BankAccount with transaction fee handling.\n",
    "    \"\"\"\n",
    "\n",
    "    def __init__(self, name: str):\n",
    "        self._name = name\n",
    "        self._balance = 0.0\n",
    "        self._transaction_fee = 0.0   # default $0.00\n",
    "\n",
    "    # --- properties ---\n",
    "    @property\n",
    "    def name(self) -> str:\n",
    "        return self._name\n",
    "\n",
    "    @property\n",
    "    def balance(self) -> float:\n",
    "        return self._balance\n",
    "\n",
    "    @property\n",
    "    def transaction_fee(self) -> float:\n",
    "        \"\"\"Get the current transaction fee.\"\"\"\n",
    "        return self._transaction_fee\n",
    "\n",
    "    @transaction_fee.setter\n",
    "    def transaction_fee(self, value: float) -> None:\n",
    "        \"\"\"\n",
    "        Set the transaction fee. \n",
    "        Only allow non-negative values.\n",
    "        \"\"\"\n",
    "        if value >= 0:\n",
    "            self._transaction_fee = value\n",
    "        # ignore negative fees (leave unchanged)\n",
    "\n",
    "    # --- methods ---\n",
    "    def deposit(self, amount: float) -> None:\n",
    "        \"\"\"Add money to the balance if amount > 0.\"\"\"\n",
    "        if amount > 0:\n",
    "            self._balance += amount\n",
    "\n",
    "    def withdraw(self, amount: float) -> None:\n",
    "        \"\"\"\n",
    "        Withdraw amount + fee only if total ≤ balance.\n",
    "        Ignore if amount <= 0 or insufficient funds.\n",
    "        \"\"\"\n",
    "        total = amount + self._transaction_fee\n",
    "        if amount > 0 and total <= self._balance:\n",
    "            self._balance -= total\n"
   ]
  },
  {
   "cell_type": "code",
   "execution_count": 24,
   "id": "8a8c4232",
   "metadata": {},
   "outputs": [
    {
     "name": "stdout",
     "output_type": "stream",
     "text": [
      "ok: 100.0\n",
      "ok: 60.0\n",
      "ok: 2.5\n",
      "ok: 17.5\n",
      "ok: 17.5\n",
      "ok: 2.5\n",
      "✅ All transaction fee tests passed.\n"
     ]
    }
   ],
   "source": [
    "# Manual tests for BankAccount_transaction_fee\n",
    "\n",
    "acct = BankAccount(\"Nate\")\n",
    "acct.deposit(100)\n",
    "_assert_eq(acct.balance, 100.0)\n",
    "\n",
    "# default fee = 0.0\n",
    "acct.withdraw(40)\n",
    "_assert_eq(acct.balance, 60.0)\n",
    "\n",
    "# set valid transaction fee\n",
    "acct.transaction_fee = 2.5\n",
    "_assert_eq(acct.transaction_fee, 2.5)\n",
    "\n",
    "# withdraw with fee (40 + 2.5 = 42.5)\n",
    "acct.withdraw(40)\n",
    "_assert_eq(acct.balance, 17.5)\n",
    "\n",
    "# withdraw too large (would go negative) → ignore\n",
    "acct.withdraw(100)\n",
    "_assert_eq(acct.balance, 17.5)\n",
    "\n",
    "# set negative fee → ignore\n",
    "acct.transaction_fee = -10\n",
    "_assert_eq(acct.transaction_fee, 2.5)\n",
    "\n",
    "print(\"✅ All transaction fee tests passed.\")\n"
   ]
  },
  {
   "cell_type": "markdown",
   "id": "73a40ad9",
   "metadata": {},
   "source": [
    "**Algorithmic Analysis**\n",
    "\n",
    "- Each withdrawal and deposit performs only constant-time arithmetic.  \n",
    "  **Time:** O(1)  \n",
    "  **Space:** O(1)  \n",
    "- Fee validation adds no asymptotic cost.  \n",
    "- No recursion or iteration — purely O(1) per call.\n"
   ]
  },
  {
   "cell_type": "markdown",
   "id": "acc5d8ec",
   "metadata": {},
   "source": [
    "## CSBS Q5: BankAccount_str\n",
    "\n",
    "Add a `__str__` method to the `BankAccount` class that returns the account’s name and balance formatted with two decimal places.  \n",
    "Example: if the account name is `\"Mariana\"` and balance is `3.5`, then  \n",
    "`str(yana)` → `\"Mariana, $3.50\"`.\n"
   ]
  },
  {
   "cell_type": "code",
   "execution_count": 25,
   "id": "2fedefae",
   "metadata": {},
   "outputs": [],
   "source": [
    "# CSBS Q5: BankAccount_str\n",
    "# Implement only the __str__ method, assuming the rest of the class exists.\n",
    "\n",
    "def __str__(self) -> str:\n",
    "    \"\"\"\n",
    "    Return a string with the account's name and balance.\n",
    "    Example: \"Mariana, $3.50\"\n",
    "    \"\"\"\n",
    "    return f\"{self._name}, ${self._balance:.2f}\"\n"
   ]
  },
  {
   "cell_type": "code",
   "execution_count": 26,
   "id": "b08a1d1f",
   "metadata": {},
   "outputs": [
    {
     "name": "stdout",
     "output_type": "stream",
     "text": [
      "Mariana, $3.50\n"
     ]
    }
   ],
   "source": [
    "# Manual test for __str__\n",
    "\n",
    "# temporary minimal class to test it\n",
    "class BankAccount:\n",
    "    def __init__(self, name):\n",
    "        self._name = name\n",
    "        self._balance = 3.5\n",
    "\n",
    "    def __str__(self):\n",
    "        return f\"{self._name}, ${self._balance:.2f}\"\n",
    "\n",
    "yana = BankAccount(\"Mariana\")\n",
    "print(str(yana))   # Expected: Mariana, $3.50\n"
   ]
  },
  {
   "cell_type": "markdown",
   "id": "90b69d0f",
   "metadata": {},
   "source": [
    "**Algorithmic Analysis**\n",
    "\n",
    "- String formatting and f-string interpolation are constant-time operations.  \n",
    "  **Time:** O(1) **Space:** O(1)\n"
   ]
  },
  {
   "cell_type": "markdown",
   "id": "7fbbd4db",
   "metadata": {},
   "source": [
    "## CSBS Q6: factorial\n",
    "\n",
    "Write a recursive function `factorial(n)` that returns n ! —the product of all positive integers up to n.  \n",
    "- Base case: `0!` and `1!` are 1  \n",
    "- Recursive case: `n! = n * (n − 1)!`  \n",
    "- Assume n is a non-negative int and the result fits in an int.  \n",
    "- No loops or extra data structures.\n"
   ]
  },
  {
   "cell_type": "code",
   "execution_count": 27,
   "id": "2640a389",
   "metadata": {},
   "outputs": [],
   "source": [
    "# CSBS Q6: factorial\n",
    "# Recursive implementation of factorial.\n",
    "\n",
    "def factorial(n: int) -> int:\n",
    "    \"\"\"\n",
    "    Return n! computed recursively.\n",
    "    Base cases:\n",
    "        0! = 1\n",
    "        1! = 1\n",
    "    Recursive case:\n",
    "        n! = n * (n - 1)!\n",
    "    \"\"\"\n",
    "    # Base case\n",
    "    if n <= 1:\n",
    "        return 1\n",
    "\n",
    "    # Recursive case\n",
    "    return n * factorial(n - 1)\n"
   ]
  },
  {
   "cell_type": "code",
   "execution_count": 28,
   "id": "39f2e70a",
   "metadata": {},
   "outputs": [
    {
     "name": "stdout",
     "output_type": "stream",
     "text": [
      "ok: 1\n",
      "ok: 1\n",
      "ok: 24\n",
      "ok: 120\n",
      "✅ All factorial tests passed.\n"
     ]
    }
   ],
   "source": [
    "# Manual tests for factorial\n",
    "\n",
    "_assert_eq(factorial(0), 1)\n",
    "_assert_eq(factorial(1), 1)\n",
    "_assert_eq(factorial(4), 24)\n",
    "_assert_eq(factorial(5), 120)\n",
    "\n",
    "print(\"✅ All factorial tests passed.\")\n"
   ]
  },
  {
   "cell_type": "markdown",
   "id": "5733ee4d",
   "metadata": {},
   "source": [
    "**Algorithmic Analysis**\n",
    "\n",
    "Let T(n) = T(n − 1) + O(1)  \n",
    "⇒ T(n) = O(n) time  \n",
    "Each recursive call adds one frame to the call stack → O(n) space.\n"
   ]
  }
 ],
 "metadata": {
  "kernelspec": {
   "display_name": "base",
   "language": "python",
   "name": "python3"
  },
  "language_info": {
   "codemirror_mode": {
    "name": "ipython",
    "version": 3
   },
   "file_extension": ".py",
   "mimetype": "text/x-python",
   "name": "python",
   "nbconvert_exporter": "python",
   "pygments_lexer": "ipython3",
   "version": "3.13.5"
  }
 },
 "nbformat": 4,
 "nbformat_minor": 5
}
