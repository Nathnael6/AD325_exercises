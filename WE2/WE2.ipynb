{
 "cells": [
  {
   "cell_type": "markdown",
   "id": "63145f94",
   "metadata": {},
   "source": [
    "# WE2 — Stacks and Queues\n",
    "Course: CS DS 325 (Fall 2024)  \n",
    "Author: Nathnael Yirga  \n",
    "\n",
    "> Each Code Step-by-Step problem below includes:\n",
    "> 1️⃣ Problem header  \n",
    "> 2️⃣ Solution with detailed comments  \n",
    "> 3️⃣ Manual tests  \n",
    "> 4️⃣ Time and space analysis\n"
   ]
  },
  {
   "cell_type": "code",
   "execution_count": 17,
   "id": "abf9d9c4",
   "metadata": {},
   "outputs": [],
   "source": [
    "def _assert_eq(actual, expected):\n",
    "    \"\"\"Simple assertion helper to validate outputs.\"\"\"\n",
    "    if actual != expected:\n",
    "        raise AssertionError(f\"❌ Expected {expected}, but got {actual}\")\n",
    "    print(f\"✅ Passed: {actual}\")"
   ]
  },
  {
   "cell_type": "markdown",
   "id": "d078fc38",
   "metadata": {},
   "source": [
    "## CodeStepByStep: count_duplicates\n",
    "\n",
    "Write a function `count_duplicates(nums)` that returns the number of duplicate values in a list of integers.\n",
    "A duplicate value is one that appears **again later in the list** after its first occurrence.\n",
    "\n",
    "Example:  \n",
    "`count_duplicates([1, 4, 2, 4, 7, 1, 1, 9, 2, 3, 4, 1]) → 6`\n",
    "\n",
    "Constraints:  \n",
    "- The list could be empty or have a single element; return 0 in such cases.  \n",
    "- Do not modify the contents of the list.\n"
   ]
  },
  {
   "cell_type": "code",
   "execution_count": 18,
   "id": "2b451901",
   "metadata": {},
   "outputs": [],
   "source": [
    "def count_duplicates(nums):\n",
    "    \"\"\"\n",
    "    this returns the number of duplicate values in a list.\n",
    "   \n",
    "   The Approach I uased :\n",
    "        - Use a set `seen` to remember elements we encountered.\n",
    "        - For each element:\n",
    "             * if it's already in `seen`, increment the duplicate counter\n",
    "            * else, add it to `seen`\n",
    "        - Return the total duplicate count.\n",
    "\n",
    "    Time Complexity: O(n)\n",
    "    Space Complexity: O(n)\n",
    "    \"\"\"\n",
    "    seen = set()   # tracks unique numbers seen so far\n",
    "    dupes = 0      # counter for duplicates\n",
    "\n",
    "    for num in nums:\n",
    "        if num in seen:\n",
    "            dupes += 1\n",
    "        else:\n",
    "            seen.add(num)\n",
    "    \n",
    "    return dupes"
   ]
  },
  {
   "cell_type": "code",
   "execution_count": 19,
   "id": "e1d25894",
   "metadata": {},
   "outputs": [
    {
     "name": "stdout",
     "output_type": "stream",
     "text": [
      "✅ Passed: 0\n",
      "✅ Passed: 0\n",
      "✅ Passed: 1\n",
      "✅ Passed: 0\n",
      "✅ Passed: 6\n",
      "🎉 All count_duplicates tests passed!\n"
     ]
    }
   ],
   "source": [
    "# Manual tests for count_duplicates\n",
    "_assert_eq(count_duplicates([]), 0)\n",
    "_assert_eq(count_duplicates([5]), 0)\n",
    "_assert_eq(count_duplicates([1, 1]), 1)\n",
    "_assert_eq(count_duplicates([1, 2, 3, 4]), 0)\n",
    "_assert_eq(count_duplicates([1, 4, 2, 4, 7, 1, 1, 9, 2, 3, 4, 1]), 6)\n",
    "\n",
    "print(\"🎉 All count_duplicates tests passed!\")\n"
   ]
  },
  {
   "cell_type": "markdown",
   "id": "de051e07",
   "metadata": {},
   "source": [
    "## CodeStepByStep: is_stack_sorted\n",
    "\n",
    "Write a function is_stack_sorted(stack) that checks whether a stack (list)\n",
    "is in ascending (non-decreasing) order from bottom → top.\n",
    "\n",
    "This means the list is in **reverse-sorted** order (largest at bottom, smallest at top).\n",
    "\n",
    "Constraints:\n",
    "- Use only .pop(), .append(), and len().  \n",
    "- No indexing ([]) or direct iteration.  \n",
    "- You may use one auxiliary list to help.  \n",
    "- The original stack must be restored before returning.\n"
   ]
  },
  {
   "cell_type": "code",
   "execution_count": null,
   "id": "63ea335d",
   "metadata": {},
   "outputs": [],
   "source": [
    "def is_stack_sorted(stack):\n",
    "    \"\"\"\n",
    "    Returns True if the stack is sorted in ascending \n",
    "    order from bottom to top, else False.\n",
    "\n",
    "\n",
    "    Example:\n",
    "        [20, 20, 17, 11, 8, 8, 3, 2] → True\n",
    "        [18, 12, 15, 6, 1] → False\n",
    "    \"\"\"\n",
    "    aux = []\n",
    "    sorted_flag = True \n",
    "\n",
    "    if len(stack) <= 1:\n",
    "        return True\n",
    "\n",
    "    prev = stack.pop()      \n",
    "    aux.append(prev)\n",
    "\n",
    "    while len(stack) > 0:\n",
    "        curr = stack.pop()\n",
    "        aux.append(curr)\n",
    "\n",
    "        if curr < prev:      # means it's not non-decreasing bottom → top\n",
    "            sorted_flag = False\n",
    "        prev = curr\n",
    "\n",
    "    # restore stack (back into original order)\n",
    "    while len(aux) > 0:\n",
    "        stack.append(aux.pop())\n",
    "\n",
    "    return sorted_flag\n"
   ]
  },
  {
   "cell_type": "code",
   "execution_count": 21,
   "id": "4c95a776",
   "metadata": {},
   "outputs": [
    {
     "name": "stdout",
     "output_type": "stream",
     "text": [
      "✅ Passed: True\n",
      "✅ Passed: False\n",
      "✅ Passed: True\n",
      "✅ Passed: True\n",
      "✅ Passed: [20, 20, 17, 11, 8, 8, 3, 2]\n",
      "✅ Passed: [18, 12, 15, 6, 1]\n",
      "🎉 All is_stack_sorted tests passed and stacks restored!\n"
     ]
    }
   ],
   "source": [
    "# Manual tests for is_stack_sorted\n",
    "\n",
    "stack1 = [20, 20, 17, 11, 8, 8, 3, 2]\n",
    "stack2 = [18, 12, 15, 6, 1]\n",
    "stack3 = [1]\n",
    "stack4 = []\n",
    "\n",
    "_assert_eq(is_stack_sorted(stack1), True)\n",
    "_assert_eq(is_stack_sorted(stack2), False)\n",
    "_assert_eq(is_stack_sorted(stack3), True)\n",
    "_assert_eq(is_stack_sorted(stack4), True)\n",
    "\n",
    "# ensure the stacks are restored\n",
    "_assert_eq(stack1, [20, 20, 17, 11, 8, 8, 3, 2])\n",
    "_assert_eq(stack2, [18, 12, 15, 6, 1])\n",
    "\n",
    "print(\"🎉 All is_stack_sorted tests passed and stacks restored!\")\n"
   ]
  },
  {
   "cell_type": "markdown",
   "id": "23670d82",
   "metadata": {},
   "source": [
    "**Time Complexity:** O(N) — each element is popped and restored once  \n",
    "**Space Complexity:** O(N) — auxiliary list for temporary storage\n"
   ]
  }
 ],
 "metadata": {
  "kernelspec": {
   "display_name": "base",
   "language": "python",
   "name": "python3"
  },
  "language_info": {
   "codemirror_mode": {
    "name": "ipython",
    "version": 3
   },
   "file_extension": ".py",
   "mimetype": "text/x-python",
   "name": "python",
   "nbconvert_exporter": "python",
   "pygments_lexer": "ipython3",
   "version": "3.13.5"
  }
 },
 "nbformat": 4,
 "nbformat_minor": 5
}
